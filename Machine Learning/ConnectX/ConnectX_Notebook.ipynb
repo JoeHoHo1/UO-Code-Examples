{
  "nbformat": 4,
  "nbformat_minor": 0,
  "metadata": {
    "colab": {
      "name": "ConnectX_Notebook.ipynb",
      "provenance": [],
      "collapsed_sections": [],
      "machine_shape": "hm"
    },
    "kernelspec": {
      "display_name": "Python 3",
      "name": "python3"
    },
    "widgets": {
      "application/vnd.jupyter.widget-state+json": {
        "81f2769b2ed84f1a89fa409262847cdf": {
          "model_module": "@jupyter-widgets/controls",
          "model_name": "HBoxModel",
          "state": {
            "_view_name": "HBoxView",
            "_dom_classes": [],
            "_model_name": "HBoxModel",
            "_view_module": "@jupyter-widgets/controls",
            "_model_module_version": "1.5.0",
            "_view_count": null,
            "_view_module_version": "1.5.0",
            "box_style": "",
            "layout": "IPY_MODEL_21931b93eb6044dda001c8cf9b9bcd84",
            "_model_module": "@jupyter-widgets/controls",
            "children": [
              "IPY_MODEL_6cc526e74a504c71bb40fc01a3e7e337",
              "IPY_MODEL_6ac1a72130cc44bfa156ad6bc22a4da3"
            ]
          }
        },
        "21931b93eb6044dda001c8cf9b9bcd84": {
          "model_module": "@jupyter-widgets/base",
          "model_name": "LayoutModel",
          "state": {
            "_view_name": "LayoutView",
            "grid_template_rows": null,
            "right": null,
            "justify_content": null,
            "_view_module": "@jupyter-widgets/base",
            "overflow": null,
            "_model_module_version": "1.2.0",
            "_view_count": null,
            "flex_flow": null,
            "width": null,
            "min_width": null,
            "border": null,
            "align_items": null,
            "bottom": null,
            "_model_module": "@jupyter-widgets/base",
            "top": null,
            "grid_column": null,
            "overflow_y": null,
            "overflow_x": null,
            "grid_auto_flow": null,
            "grid_area": null,
            "grid_template_columns": null,
            "flex": null,
            "_model_name": "LayoutModel",
            "justify_items": null,
            "grid_row": null,
            "max_height": null,
            "align_content": null,
            "visibility": null,
            "align_self": null,
            "height": null,
            "min_height": null,
            "padding": null,
            "grid_auto_rows": null,
            "grid_gap": null,
            "max_width": null,
            "order": null,
            "_view_module_version": "1.2.0",
            "grid_template_areas": null,
            "object_position": null,
            "object_fit": null,
            "grid_auto_columns": null,
            "margin": null,
            "display": null,
            "left": null
          }
        },
        "6cc526e74a504c71bb40fc01a3e7e337": {
          "model_module": "@jupyter-widgets/controls",
          "model_name": "FloatProgressModel",
          "state": {
            "_view_name": "ProgressView",
            "style": "IPY_MODEL_8266fdc728c14548add0d66137afbe02",
            "_dom_classes": [],
            "description": "100%",
            "_model_name": "FloatProgressModel",
            "bar_style": "success",
            "max": 40000,
            "_view_module": "@jupyter-widgets/controls",
            "_model_module_version": "1.5.0",
            "value": 40000,
            "_view_count": null,
            "_view_module_version": "1.5.0",
            "orientation": "horizontal",
            "min": 0,
            "description_tooltip": null,
            "_model_module": "@jupyter-widgets/controls",
            "layout": "IPY_MODEL_ef17e2ef7629419fa200f78d43b03eff"
          }
        },
        "6ac1a72130cc44bfa156ad6bc22a4da3": {
          "model_module": "@jupyter-widgets/controls",
          "model_name": "HTMLModel",
          "state": {
            "_view_name": "HTMLView",
            "style": "IPY_MODEL_3694848e92794775a2c254a12bd5146c",
            "_dom_classes": [],
            "description": "",
            "_model_name": "HTMLModel",
            "placeholder": "​",
            "_view_module": "@jupyter-widgets/controls",
            "_model_module_version": "1.5.0",
            "value": " 40000/40000 [14:47:35&lt;00:00,  1.33s/it]",
            "_view_count": null,
            "_view_module_version": "1.5.0",
            "description_tooltip": null,
            "_model_module": "@jupyter-widgets/controls",
            "layout": "IPY_MODEL_81151784639a4512b9b17ed7b6bf973a"
          }
        },
        "8266fdc728c14548add0d66137afbe02": {
          "model_module": "@jupyter-widgets/controls",
          "model_name": "ProgressStyleModel",
          "state": {
            "_view_name": "StyleView",
            "_model_name": "ProgressStyleModel",
            "description_width": "initial",
            "_view_module": "@jupyter-widgets/base",
            "_model_module_version": "1.5.0",
            "_view_count": null,
            "_view_module_version": "1.2.0",
            "bar_color": null,
            "_model_module": "@jupyter-widgets/controls"
          }
        },
        "ef17e2ef7629419fa200f78d43b03eff": {
          "model_module": "@jupyter-widgets/base",
          "model_name": "LayoutModel",
          "state": {
            "_view_name": "LayoutView",
            "grid_template_rows": null,
            "right": null,
            "justify_content": null,
            "_view_module": "@jupyter-widgets/base",
            "overflow": null,
            "_model_module_version": "1.2.0",
            "_view_count": null,
            "flex_flow": null,
            "width": null,
            "min_width": null,
            "border": null,
            "align_items": null,
            "bottom": null,
            "_model_module": "@jupyter-widgets/base",
            "top": null,
            "grid_column": null,
            "overflow_y": null,
            "overflow_x": null,
            "grid_auto_flow": null,
            "grid_area": null,
            "grid_template_columns": null,
            "flex": null,
            "_model_name": "LayoutModel",
            "justify_items": null,
            "grid_row": null,
            "max_height": null,
            "align_content": null,
            "visibility": null,
            "align_self": null,
            "height": null,
            "min_height": null,
            "padding": null,
            "grid_auto_rows": null,
            "grid_gap": null,
            "max_width": null,
            "order": null,
            "_view_module_version": "1.2.0",
            "grid_template_areas": null,
            "object_position": null,
            "object_fit": null,
            "grid_auto_columns": null,
            "margin": null,
            "display": null,
            "left": null
          }
        },
        "3694848e92794775a2c254a12bd5146c": {
          "model_module": "@jupyter-widgets/controls",
          "model_name": "DescriptionStyleModel",
          "state": {
            "_view_name": "StyleView",
            "_model_name": "DescriptionStyleModel",
            "description_width": "",
            "_view_module": "@jupyter-widgets/base",
            "_model_module_version": "1.5.0",
            "_view_count": null,
            "_view_module_version": "1.2.0",
            "_model_module": "@jupyter-widgets/controls"
          }
        },
        "81151784639a4512b9b17ed7b6bf973a": {
          "model_module": "@jupyter-widgets/base",
          "model_name": "LayoutModel",
          "state": {
            "_view_name": "LayoutView",
            "grid_template_rows": null,
            "right": null,
            "justify_content": null,
            "_view_module": "@jupyter-widgets/base",
            "overflow": null,
            "_model_module_version": "1.2.0",
            "_view_count": null,
            "flex_flow": null,
            "width": null,
            "min_width": null,
            "border": null,
            "align_items": null,
            "bottom": null,
            "_model_module": "@jupyter-widgets/base",
            "top": null,
            "grid_column": null,
            "overflow_y": null,
            "overflow_x": null,
            "grid_auto_flow": null,
            "grid_area": null,
            "grid_template_columns": null,
            "flex": null,
            "_model_name": "LayoutModel",
            "justify_items": null,
            "grid_row": null,
            "max_height": null,
            "align_content": null,
            "visibility": null,
            "align_self": null,
            "height": null,
            "min_height": null,
            "padding": null,
            "grid_auto_rows": null,
            "grid_gap": null,
            "max_width": null,
            "order": null,
            "_view_module_version": "1.2.0",
            "grid_template_areas": null,
            "object_position": null,
            "object_fit": null,
            "grid_auto_columns": null,
            "margin": null,
            "display": null,
            "left": null
          }
        }
      }
    }
  },
  "cells": [
    {
      "cell_type": "markdown",
      "metadata": {
        "id": "VnMqmrZ7gr2v"
      },
      "source": [
        "Q-Learning derived from: https://www.kaggle.com/phunghieu/connectx-with-q-learning"
      ]
    },
    {
      "cell_type": "code",
      "metadata": {
        "colab": {
          "resources": {
            "http://localhost:8080/nbextensions/google.colab/files.js": {
              "data": "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",
              "ok": true,
              "headers": [
                [
                  "content-type",
                  "application/javascript"
                ]
              ],
              "status": 200,
              "status_text": ""
            }
          },
          "base_uri": "https://localhost:8080/",
          "height": 1000
        },
        "id": "mZbw3Wx5dEkw",
        "outputId": "459c8ca6-890a-4a7c-dd01-1e245d5fe5ac"
      },
      "source": [
        "from google.colab import files\n",
        "files.upload() #upload kaggle.json\n",
        " \n",
        "!pip install pip --upgrade\n",
        "!pip install notebook --upgrade \n",
        "!pip install -q kaggle"
      ],
      "execution_count": 6,
      "outputs": [
        {
          "output_type": "display_data",
          "data": {
            "text/html": [
              "\n",
              "     <input type=\"file\" id=\"files-c170a999-42ea-4256-b212-d7460c1b3661\" name=\"files[]\" multiple disabled\n",
              "        style=\"border:none\" />\n",
              "     <output id=\"result-c170a999-42ea-4256-b212-d7460c1b3661\">\n",
              "      Upload widget is only available when the cell has been executed in the\n",
              "      current browser session. Please rerun this cell to enable.\n",
              "      </output>\n",
              "      <script src=\"/nbextensions/google.colab/files.js\"></script> "
            ],
            "text/plain": [
              "<IPython.core.display.HTML object>"
            ]
          },
          "metadata": {
            "tags": []
          }
        },
        {
          "output_type": "stream",
          "text": [
            "Saving kaggle.json to kaggle.json\n",
            "Collecting pip\n",
            "\u001b[?25l  Downloading https://files.pythonhosted.org/packages/ab/11/2dc62c5263d9eb322f2f028f7b56cd9d096bb8988fcf82d65fa2e4057afe/pip-20.3.1-py2.py3-none-any.whl (1.5MB)\n",
            "\u001b[K     |████████████████████████████████| 1.5MB 5.6MB/s \n",
            "\u001b[?25hInstalling collected packages: pip\n",
            "  Found existing installation: pip 19.3.1\n",
            "    Uninstalling pip-19.3.1:\n",
            "      Successfully uninstalled pip-19.3.1\n",
            "Successfully installed pip-20.3.1\n",
            "Requirement already satisfied: notebook in /usr/local/lib/python3.6/dist-packages (5.3.1)\n",
            "Collecting notebook\n",
            "  Downloading notebook-6.1.5-py3-none-any.whl (9.5 MB)\n",
            "\u001b[K     |████████████████████████████████| 9.5 MB 5.5 MB/s \n",
            "\u001b[?25hRequirement already satisfied: Send2Trash in /usr/local/lib/python3.6/dist-packages (from notebook) (1.5.0)\n",
            "Requirement already satisfied: prometheus-client in /usr/local/lib/python3.6/dist-packages (from notebook) (0.9.0)\n",
            "Requirement already satisfied: ipython-genutils in /usr/local/lib/python3.6/dist-packages (from notebook) (0.2.0)\n",
            "Requirement already satisfied: jupyter-core>=4.6.1 in /usr/local/lib/python3.6/dist-packages (from notebook) (4.7.0)\n",
            "Requirement already satisfied: traitlets>=4.2.1 in /usr/local/lib/python3.6/dist-packages (from notebook) (4.3.3)\n",
            "Requirement already satisfied: nbformat in /usr/local/lib/python3.6/dist-packages (from notebook) (5.0.8)\n",
            "Requirement already satisfied: terminado>=0.8.3 in /usr/local/lib/python3.6/dist-packages (from notebook) (0.9.1)\n",
            "Requirement already satisfied: jinja2 in /usr/local/lib/python3.6/dist-packages (from notebook) (2.11.2)\n",
            "Requirement already satisfied: argon2-cffi in /usr/local/lib/python3.6/dist-packages (from notebook) (20.1.0)\n",
            "Requirement already satisfied: nbconvert in /usr/local/lib/python3.6/dist-packages (from notebook) (5.6.1)\n",
            "Requirement already satisfied: ipykernel in /usr/local/lib/python3.6/dist-packages (from notebook) (4.10.1)\n",
            "Requirement already satisfied: pyzmq>=17 in /usr/local/lib/python3.6/dist-packages (from notebook) (20.0.0)\n",
            "Requirement already satisfied: tornado>=5.0 in /usr/local/lib/python3.6/dist-packages (from notebook) (5.1.1)\n",
            "Requirement already satisfied: jupyter-client>=5.3.4 in /usr/local/lib/python3.6/dist-packages (from notebook) (5.3.5)\n",
            "Requirement already satisfied: six in /usr/local/lib/python3.6/dist-packages (from argon2-cffi->notebook) (1.15.0)\n",
            "Requirement already satisfied: cffi>=1.0.0 in /usr/local/lib/python3.6/dist-packages (from argon2-cffi->notebook) (1.14.4)\n",
            "Requirement already satisfied: pycparser in /usr/local/lib/python3.6/dist-packages (from cffi>=1.0.0->argon2-cffi->notebook) (2.20)\n",
            "Requirement already satisfied: tornado>=5.0 in /usr/local/lib/python3.6/dist-packages (from notebook) (5.1.1)\n",
            "Requirement already satisfied: traitlets>=4.2.1 in /usr/local/lib/python3.6/dist-packages (from notebook) (4.3.3)\n",
            "Requirement already satisfied: ipython>=4.0.0 in /usr/local/lib/python3.6/dist-packages (from ipykernel->notebook) (5.5.0)\n",
            "Requirement already satisfied: jupyter-client>=5.3.4 in /usr/local/lib/python3.6/dist-packages (from notebook) (5.3.5)\n",
            "Requirement already satisfied: pickleshare in /usr/local/lib/python3.6/dist-packages (from ipython>=4.0.0->ipykernel->notebook) (0.7.5)\n",
            "Requirement already satisfied: pygments in /usr/local/lib/python3.6/dist-packages (from ipython>=4.0.0->ipykernel->notebook) (2.6.1)\n",
            "Requirement already satisfied: decorator in /usr/local/lib/python3.6/dist-packages (from ipython>=4.0.0->ipykernel->notebook) (4.4.2)\n",
            "Requirement already satisfied: traitlets>=4.2.1 in /usr/local/lib/python3.6/dist-packages (from notebook) (4.3.3)\n",
            "Requirement already satisfied: simplegeneric>0.8 in /usr/local/lib/python3.6/dist-packages (from ipython>=4.0.0->ipykernel->notebook) (0.8.1)\n",
            "Requirement already satisfied: prompt-toolkit<2.0.0,>=1.0.4 in /usr/local/lib/python3.6/dist-packages (from ipython>=4.0.0->ipykernel->notebook) (1.0.18)\n",
            "Requirement already satisfied: pexpect in /usr/local/lib/python3.6/dist-packages (from ipython>=4.0.0->ipykernel->notebook) (4.8.0)\n",
            "Requirement already satisfied: setuptools>=18.5 in /usr/local/lib/python3.6/dist-packages (from ipython>=4.0.0->ipykernel->notebook) (50.3.2)\n",
            "Requirement already satisfied: MarkupSafe>=0.23 in /usr/local/lib/python3.6/dist-packages (from jinja2->notebook) (1.1.1)\n",
            "Requirement already satisfied: jupyter-core>=4.6.1 in /usr/local/lib/python3.6/dist-packages (from notebook) (4.7.0)\n",
            "Requirement already satisfied: tornado>=5.0 in /usr/local/lib/python3.6/dist-packages (from notebook) (5.1.1)\n",
            "Requirement already satisfied: pyzmq>=17 in /usr/local/lib/python3.6/dist-packages (from notebook) (20.0.0)\n",
            "Requirement already satisfied: traitlets>=4.2.1 in /usr/local/lib/python3.6/dist-packages (from notebook) (4.3.3)\n",
            "Requirement already satisfied: python-dateutil>=2.1 in /usr/local/lib/python3.6/dist-packages (from jupyter-client>=5.3.4->notebook) (2.8.1)\n",
            "Requirement already satisfied: traitlets>=4.2.1 in /usr/local/lib/python3.6/dist-packages (from notebook) (4.3.3)\n",
            "Requirement already satisfied: mistune<2,>=0.8.1 in /usr/local/lib/python3.6/dist-packages (from nbconvert->notebook) (0.8.4)\n",
            "Requirement already satisfied: pandocfilters>=1.4.1 in /usr/local/lib/python3.6/dist-packages (from nbconvert->notebook) (1.4.3)\n",
            "Requirement already satisfied: pygments in /usr/local/lib/python3.6/dist-packages (from ipython>=4.0.0->ipykernel->notebook) (2.6.1)\n",
            "Requirement already satisfied: testpath in /usr/local/lib/python3.6/dist-packages (from nbconvert->notebook) (0.4.4)\n",
            "Requirement already satisfied: jupyter-core>=4.6.1 in /usr/local/lib/python3.6/dist-packages (from notebook) (4.7.0)\n",
            "Requirement already satisfied: traitlets>=4.2.1 in /usr/local/lib/python3.6/dist-packages (from notebook) (4.3.3)\n",
            "Requirement already satisfied: entrypoints>=0.2.2 in /usr/local/lib/python3.6/dist-packages (from nbconvert->notebook) (0.3)\n",
            "Requirement already satisfied: defusedxml in /usr/local/lib/python3.6/dist-packages (from nbconvert->notebook) (0.6.0)\n",
            "Requirement already satisfied: bleach in /usr/local/lib/python3.6/dist-packages (from nbconvert->notebook) (3.2.1)\n",
            "Requirement already satisfied: nbformat in /usr/local/lib/python3.6/dist-packages (from notebook) (5.0.8)\n",
            "Requirement already satisfied: jinja2 in /usr/local/lib/python3.6/dist-packages (from notebook) (2.11.2)\n",
            "Requirement already satisfied: six in /usr/local/lib/python3.6/dist-packages (from argon2-cffi->notebook) (1.15.0)\n",
            "Requirement already satisfied: webencodings in /usr/local/lib/python3.6/dist-packages (from bleach->nbconvert->notebook) (0.5.1)\n",
            "Requirement already satisfied: packaging in /usr/local/lib/python3.6/dist-packages (from bleach->nbconvert->notebook) (20.7)\n",
            "Requirement already satisfied: ipython-genutils in /usr/local/lib/python3.6/dist-packages (from notebook) (0.2.0)\n",
            "Requirement already satisfied: traitlets>=4.2.1 in /usr/local/lib/python3.6/dist-packages (from notebook) (4.3.3)\n",
            "Requirement already satisfied: jsonschema!=2.5.0,>=2.4 in /usr/local/lib/python3.6/dist-packages (from nbformat->notebook) (2.6.0)\n",
            "Requirement already satisfied: jupyter-core>=4.6.1 in /usr/local/lib/python3.6/dist-packages (from notebook) (4.7.0)\n",
            "Requirement already satisfied: pyparsing>=2.0.2 in /usr/local/lib/python3.6/dist-packages (from packaging->bleach->nbconvert->notebook) (2.4.7)\n",
            "Requirement already satisfied: ptyprocess>=0.5 in /usr/local/lib/python3.6/dist-packages (from pexpect->ipython>=4.0.0->ipykernel->notebook) (0.6.0)\n",
            "Requirement already satisfied: wcwidth in /usr/local/lib/python3.6/dist-packages (from prompt-toolkit<2.0.0,>=1.0.4->ipython>=4.0.0->ipykernel->notebook) (0.2.5)\n",
            "Requirement already satisfied: six in /usr/local/lib/python3.6/dist-packages (from argon2-cffi->notebook) (1.15.0)\n",
            "Requirement already satisfied: six in /usr/local/lib/python3.6/dist-packages (from argon2-cffi->notebook) (1.15.0)\n",
            "Requirement already satisfied: ptyprocess>=0.5 in /usr/local/lib/python3.6/dist-packages (from pexpect->ipython>=4.0.0->ipykernel->notebook) (0.6.0)\n",
            "Requirement already satisfied: tornado>=5.0 in /usr/local/lib/python3.6/dist-packages (from notebook) (5.1.1)\n",
            "Requirement already satisfied: ipython-genutils in /usr/local/lib/python3.6/dist-packages (from notebook) (0.2.0)\n",
            "Requirement already satisfied: six in /usr/local/lib/python3.6/dist-packages (from argon2-cffi->notebook) (1.15.0)\n",
            "Requirement already satisfied: decorator in /usr/local/lib/python3.6/dist-packages (from ipython>=4.0.0->ipykernel->notebook) (4.4.2)\n",
            "Installing collected packages: notebook\n",
            "  Attempting uninstall: notebook\n",
            "    Found existing installation: notebook 5.3.1\n",
            "    Uninstalling notebook-5.3.1:\n",
            "      Successfully uninstalled notebook-5.3.1\n",
            "\u001b[31mERROR: pip's dependency resolver does not currently take into account all the packages that are installed. This behaviour is the source of the following dependency conflicts.\n",
            "google-colab 1.0.0 requires notebook~=5.3.0; python_version >= \"3.0\", but you have notebook 6.1.5 which is incompatible.\u001b[0m\n",
            "Successfully installed notebook-6.1.5\n"
          ],
          "name": "stdout"
        }
      ]
    },
    {
      "cell_type": "code",
      "metadata": {
        "colab": {
          "base_uri": "https://localhost:8080/"
        },
        "id": "QWkF-EH_i0CL",
        "outputId": "4c35717b-171c-4816-a86a-2e7f72a9e833"
      },
      "source": [
        "!mkdir -p ~/.kaggle\n",
        "!cp kaggle.json ~/.kaggle/\n",
        "!ls ~/.kaggle\n",
        "!chmod 600 /root/.kaggle/kaggle.json\n",
        "\n",
        "!kaggle kernels list — user joehoho — sort-by dateRun\n",
        "!pip install 'kaggle-environments>=0.1.6'\n",
        "\n",
        "!ls"
      ],
      "execution_count": 7,
      "outputs": [
        {
          "output_type": "stream",
          "text": [
            "kaggle.json\n",
            "usage: kaggle [-h] [-v] {competitions,c,datasets,d,kernels,k,config} ...\n",
            "kaggle: error: unrecognized arguments: — user joehoho — sort-by dateRun\n",
            "Collecting kaggle-environments>=0.1.6\n",
            "  Downloading kaggle_environments-1.7.3-py2.py3-none-any.whl (106 kB)\n",
            "\u001b[K     |████████████████████████████████| 106 kB 5.3 MB/s \n",
            "\u001b[?25hCollecting jsonschema>=3.0.1\n",
            "  Downloading jsonschema-3.2.0-py2.py3-none-any.whl (56 kB)\n",
            "\u001b[K     |████████████████████████████████| 56 kB 2.6 MB/s \n",
            "\u001b[?25hRequirement already satisfied: setuptools in /usr/local/lib/python3.6/dist-packages (from jsonschema>=3.0.1->kaggle-environments>=0.1.6) (50.3.2)\n",
            "Requirement already satisfied: six>=1.11.0 in /usr/local/lib/python3.6/dist-packages (from jsonschema>=3.0.1->kaggle-environments>=0.1.6) (1.15.0)\n",
            "Requirement already satisfied: importlib-metadata in /usr/local/lib/python3.6/dist-packages (from jsonschema>=3.0.1->kaggle-environments>=0.1.6) (3.1.1)\n",
            "Requirement already satisfied: pyrsistent>=0.14.0 in /usr/local/lib/python3.6/dist-packages (from jsonschema>=3.0.1->kaggle-environments>=0.1.6) (0.17.3)\n",
            "Requirement already satisfied: attrs>=17.4.0 in /usr/local/lib/python3.6/dist-packages (from jsonschema>=3.0.1->kaggle-environments>=0.1.6) (20.3.0)\n",
            "Requirement already satisfied: zipp>=0.5 in /usr/local/lib/python3.6/dist-packages (from importlib-metadata->jsonschema>=3.0.1->kaggle-environments>=0.1.6) (3.4.0)\n",
            "Installing collected packages: jsonschema, kaggle-environments\n",
            "  Attempting uninstall: jsonschema\n",
            "    Found existing installation: jsonschema 2.6.0\n",
            "    Uninstalling jsonschema-2.6.0:\n",
            "      Successfully uninstalled jsonschema-2.6.0\n",
            "\u001b[31mERROR: pip's dependency resolver does not currently take into account all the packages that are installed. This behaviour is the source of the following dependency conflicts.\n",
            "nbclient 0.5.1 requires jupyter-client>=6.1.5, but you have jupyter-client 5.3.5 which is incompatible.\u001b[0m\n",
            "Successfully installed jsonschema-3.2.0 kaggle-environments-1.7.3\n",
            "kaggle.json  sample_data\n"
          ],
          "name": "stdout"
        }
      ]
    },
    {
      "cell_type": "code",
      "metadata": {
        "id": "ES5dPP1PJKUg",
        "colab": {
          "base_uri": "https://localhost:8080/"
        },
        "outputId": "39033d56-60a2-4538-bf79-4171d2ec270a"
      },
      "source": [
        "import numpy as np\n",
        "import gym\n",
        "import random\n",
        "import matplotlib.pyplot as plt\n",
        "from random import choice\n",
        "from tqdm.notebook import tqdm\n",
        "from kaggle_environments import evaluate, make\n",
        "from kaggle_environments import agent as utils\n",
        "\n",
        "#ignore load football failed, common issue"
      ],
      "execution_count": 8,
      "outputs": [
        {
          "output_type": "stream",
          "text": [
            "Loading environment football failed: No module named 'gfootball'\n"
          ],
          "name": "stdout"
        }
      ]
    },
    {
      "cell_type": "code",
      "metadata": {
        "id": "lbm5QXO0ful5"
      },
      "source": [
        "def encode_line(a,b,c,d) :\n",
        "    return int(a + b*1e2 + c*1e4 + d*1e6)\n",
        "\n",
        "def create_lines_by_index():\n",
        "    lines_by_index = {}\n",
        "    for i in range(42):\n",
        "        lines_by_index[i] = []\n",
        "    for r in range(6):\n",
        "        for c in range(7):\n",
        "            for direction in [ (0, 1), (1,1), (1,0), (1,-1) ]:\n",
        "                dx,dy = direction\n",
        "                for start in [-3, -2, -1, 0]:\n",
        "                    line = []\n",
        "                    for l in range(4):\n",
        "                        _r = r + (start+l) * dy\n",
        "                        _c = c + (start+l) * dx\n",
        "                        if _r > -1 and _r < 6 and _c > -1 and _c < 7:\n",
        "                            line.append( _r * 7 + _c)\n",
        "                    if len(line) == 4:\n",
        "                        encoded_line = encode_line(*sorted(line))\n",
        "                        for idx in line:\n",
        "                            if not encoded_line in lines_by_index[idx]:\n",
        "                                lines_by_index[idx].append(encoded_line)                      \n",
        "    return lines_by_index\n",
        "\n",
        "def create_count_by_line(lines_by_index):\n",
        "    lines = sorted({x for v in lines_by_index.values() for x in v})\n",
        "    return dict(zip(lines , [0] * len(lines)))\n",
        "    \n",
        "def  update_count_by_line(count_by_lines, lines_by_index, idx, color):\n",
        "    for encoded_line in lines_by_index[idx] :\n",
        "        if encoded_line in count_by_lines :\n",
        "            if color * count_by_lines[encoded_line] >= 0 : \n",
        "                count_by_lines[encoded_line] = count_by_lines[encoded_line] + color\n",
        "            else :\n",
        "                count_by_lines.pop(encoded_line, None)\n",
        "    return count_by_lines\n",
        "\n",
        "def compute_count_by_line(count_by_lines, lines_by_index, board):\n",
        "    for idx in reversed(range(42)):\n",
        "        if board[idx] != 0 :\n",
        "            count_by_lines = update_count_by_line(count_by_lines, lines_by_index, idx, 1 if  board[idx] == 1 else -1)\n",
        "    return count_by_lines\n",
        "\n",
        "def lookahead(board, lines_by_index, count_by_lines, search_max, depth, side, moves) :\n",
        "    if depth == 0:\n",
        "        return moves, get_heuristic_score(count_by_lines)\n",
        "    color = 1 if search_max else -1\n",
        "    best_score, best_moves = -1e16 if search_max else 1e16, []\n",
        "    for r,c in get_valid_moves(board):\n",
        "        new_board, new_moves = make_move(board, moves, color, r, c)\n",
        "        new_count_by_lines = update_count_by_line(count_by_lines.copy(), lines_by_index, r*7 + c, color)\n",
        "        if get_winner(new_count_by_lines) == color:\n",
        "            score = (1e8-len(new_moves)) * color \n",
        "        else :\n",
        "            new_moves, score = lookahead(new_board, lines_by_index, new_count_by_lines, \n",
        "                not search_max, depth-1, side, new_moves)\n",
        "        if  (search_max and  score > best_score) or  (not search_max and score < best_score):\n",
        "            best_score, best_moves  = score, new_moves\n",
        "    #print(\"LEVEL = \" + str(depth) + \" return \" + str(best_moves) + \" with score \" + str(best_score))\n",
        "    return best_moves, best_score         \n",
        "\n",
        "def lookahead_agent(obs, config, depth=3):\n",
        "    depth = estimate_depth(obs.board, depth)\n",
        "    if sum(x != 0 for x in obs.board) < 2:\n",
        "        return 3\n",
        "    lines_by_index = create_lines_by_index()\n",
        "    count_by_line = create_count_by_line(lines_by_index)\n",
        "    count_by_line = compute_count_by_line(count_by_line, lines_by_index, obs.board)    \n",
        "    moves, score  = lookahead(obs.board.copy(), lines_by_index, count_by_line, \n",
        "        True if obs.mark == 1 else False, depth , 1 if obs.mark == 1 else -1, [])       \n",
        "    return moves[0]\n",
        "\n",
        "def estimate_depth(board, default_depth):\n",
        "    depth = default_depth\n",
        "    move_cnt = sum(x != 0 for x in board)\n",
        "    if move_cnt > 25:\n",
        "        depth = depth +  int((move_cnt-25) / 5)\n",
        "    open_row_cnt = len(get_valid_moves(board))\n",
        "    depth = depth + (7 - open_row_cnt)\n",
        "    depth = min(42 - move_cnt, depth)\n",
        "    return depth\n",
        "\n",
        "def get_heuristic_score(count_by_lines) :\n",
        "    scores = { -3 : -50, -2 : -10, -1 : -1, 0: 0, 1 : 1, 2 : 10, 3 : 50  }\n",
        "    return sum( scores[x] for x in count_by_lines.values())\n",
        "\n",
        "def get_winner(count_by_lines):\n",
        "    return 1 if count_by_lines and max(count_by_lines.values()) == 4 else -1 if count_by_lines and min(count_by_lines.values()) == -4 else 0\n",
        "    \n",
        "def get_free_row(board, col):\n",
        "    for row in reversed(range(6)) :\n",
        "        if  board[row*7 + col] == 0:\n",
        "            return row\n",
        "    return -1\n",
        "\n",
        "def get_valid_moves(board):\n",
        "    return [ (get_free_row(board, col), col) for col in range(7) if get_free_row(board, col) != -1 ]\n",
        "    \n",
        "def make_move(board, moves, color, r, c):\n",
        "    new_moves = moves.copy()\n",
        "    new_moves.append(c)\n",
        "    new_board = board.copy()\n",
        "    new_board[r*7+c] = color\n",
        "    return new_board, new_moves\n",
        "\n",
        "def agent_depth1(obs, config):\n",
        "    return lookahead_agent(obs, config, 1)\n",
        "\n",
        "def agent_depth3(obs, config):\n",
        "    return lookahead_agent(obs, config, 3)\n",
        "\n",
        "def agent_depth5(obs, config):\n",
        "    return lookahead_agent(obs, config, 5)\n",
        "\n",
        "def agent_depth6(obs, config):\n",
        "    return lookahead_agent(obs, config, 6)"
      ],
      "execution_count": 9,
      "outputs": []
    },
    {
      "cell_type": "code",
      "metadata": {
        "id": "sR-feFHGfGOv"
      },
      "source": [
        "class ConnectX(gym.Env):\n",
        "    def __init__(self, switch_prob=0.5):\n",
        "        self.env = make('connectx', debug=True)\n",
        "        self.pair = [None, 'negamax']\n",
        "        self.trainer = self.env.train(self.pair)\n",
        "        self.switch_prob = switch_prob\n",
        "        \n",
        "        # Define required gym fields (examples):\n",
        "        config = self.env.configuration\n",
        "        self.action_space = gym.spaces.Discrete(config.columns)\n",
        "        self.observation_space = gym.spaces.Discrete(config.columns * config.rows)\n",
        "\n",
        "    def switch_trainer(self):\n",
        "        self.pair = self.pair[::-1]\n",
        "        self.trainer = self.env.train(self.pair)\n",
        "\n",
        "    def step(self, action):\n",
        "        return self.trainer.step(action)\n",
        "    \n",
        "    def reset(self):\n",
        "        if random.uniform(0, 1) < self.switch_prob:\n",
        "            self.switch_trainer()\n",
        "        return self.trainer.reset()\n",
        "    \n",
        "    def render(self, **kwargs):\n",
        "        return self.env.render(**kwargs)\n",
        "\n",
        "    def run(self, agents):\n",
        "        return self.env.run(agents)\n",
        "\n",
        "\n",
        "\n",
        "class QTable:\n",
        "    def __init__(self, action_space):\n",
        "        self.table = dict()\n",
        "        self.action_space = action_space\n",
        "        \n",
        "    def add_item(self, state_key):\n",
        "        self.table[state_key] = list(np.zeros(self.action_space.n))\n",
        "        \n",
        "    def __call__(self, state):\n",
        "        board = state['board'][:] # Get a copy\n",
        "        board.append(state.mark)\n",
        "        state_key = np.array(board).astype(str)\n",
        "        state_key = hex(int(''.join(state_key), 3))[2:]\n",
        "        if state_key not in self.table.keys():\n",
        "            self.add_item(state_key)\n",
        "        \n",
        "        return self.table[state_key]"
      ],
      "execution_count": 10,
      "outputs": []
    },
    {
      "cell_type": "code",
      "metadata": {
        "id": "fHU5xDPse9FZ"
      },
      "source": [
        "env = ConnectX()\n",
        "\n",
        "alpha = .1\n",
        "gamma = 0.6\n",
        "epsilon = 0.9\n",
        "min_epsilon = 0.1\n",
        "\n",
        "episodes = 40000\n",
        "\n",
        "alpha_decay_step = 1000\n",
        "alpha_decay_rate = 0.9\n",
        "epsilon_decay_rate = 0.999925"
      ],
      "execution_count": 11,
      "outputs": []
    },
    {
      "cell_type": "code",
      "metadata": {
        "id": "NZepsEsd2va5"
      },
      "source": [
        "q_table = QTable(env.action_space)\n",
        "\n",
        "all_epochs = []\n",
        "all_total_rewards = []\n",
        "all_avg_rewards = [] # Last 100 steps\n",
        "all_qtable_rows = []\n",
        "all_epsilons = []"
      ],
      "execution_count": 12,
      "outputs": []
    },
    {
      "cell_type": "code",
      "metadata": {
        "colab": {
          "base_uri": "https://localhost:8080/",
          "height": 67,
          "referenced_widgets": [
            "81f2769b2ed84f1a89fa409262847cdf",
            "21931b93eb6044dda001c8cf9b9bcd84",
            "6cc526e74a504c71bb40fc01a3e7e337",
            "6ac1a72130cc44bfa156ad6bc22a4da3",
            "8266fdc728c14548add0d66137afbe02",
            "ef17e2ef7629419fa200f78d43b03eff",
            "3694848e92794775a2c254a12bd5146c",
            "81151784639a4512b9b17ed7b6bf973a"
          ]
        },
        "id": "VBCYJ7FLHFpy",
        "outputId": "db9cc9fe-5905-4c13-a5b2-0b4f1eeefd2b"
      },
      "source": [
        "for i in tqdm(range(episodes)):\n",
        "    state = env.reset()\n",
        "\n",
        "    epsilon = max(min_epsilon, epsilon * epsilon_decay_rate)\n",
        "    epochs, total_rewards = 0, 0\n",
        "    done = False\n",
        "\n",
        "    while not done:\n",
        "        if random.uniform(0, 1) < epsilon:\n",
        "            action = choice([c for c in range(env.action_space.n) if state['board'][c] == 0])\n",
        "        else:\n",
        "            row = q_table(state)[:]\n",
        "            selected_items = []\n",
        "            for j in range(env.action_space.n):\n",
        "                if state['board'][j] == 0:\n",
        "                    selected_items.append(row[j])\n",
        "                else:\n",
        "                    selected_items.append(-1e7)\n",
        "            action = int(np.argmax(selected_items))\n",
        "        \n",
        "        next_state, reward, done, info = env.step(action)\n",
        "\n",
        "        # Apply new rules\n",
        "        if done:\n",
        "            if reward == 1: # Won\n",
        "                reward = 20\n",
        "            elif reward == 0: # Lost\n",
        "                reward = -20\n",
        "            else: # Draw\n",
        "                reward = 5\n",
        "        else:\n",
        "            reward = -0.05 # Try to prevent the agent from taking a long move\n",
        "\n",
        "        old_value = q_table(state)[action]\n",
        "        next_max = np.max(q_table(next_state))\n",
        "        \n",
        "        # Update Q-value\n",
        "        new_value = (1 - alpha) * old_value + alpha * (reward + gamma * next_max)\n",
        "        q_table(state)[action] = new_value\n",
        "\n",
        "        state = next_state\n",
        "        epochs += 1\n",
        "        total_rewards += reward\n",
        "\n",
        "\n",
        "    all_epochs.append(epochs)\n",
        "    all_total_rewards.append(total_rewards)\n",
        "    avg_rewards = np.mean(all_total_rewards[max(0, i-100):(i+1)])\n",
        "    all_avg_rewards.append(avg_rewards)\n",
        "    all_qtable_rows.append(len(q_table.table))\n",
        "    all_epsilons.append(epsilon)\n",
        "\n",
        "    if (i+1) % alpha_decay_step == 0:\n",
        "        alpha *= alpha_decay_rate\n",
        "\n"
      ],
      "execution_count": null,
      "outputs": [
        {
          "output_type": "display_data",
          "data": {
            "application/vnd.jupyter.widget-view+json": {
              "model_id": "81f2769b2ed84f1a89fa409262847cdf",
              "version_minor": 0,
              "version_major": 2
            },
            "text/plain": [
              "HBox(children=(FloatProgress(value=0.0, max=40000.0), HTML(value='')))"
            ]
          },
          "metadata": {
            "tags": []
          }
        },
        {
          "output_type": "stream",
          "text": [
            "\n"
          ],
          "name": "stdout"
        }
      ]
    },
    {
      "cell_type": "code",
      "metadata": {
        "colab": {
          "base_uri": "https://localhost:8080/",
          "height": 279
        },
        "id": "Ah-v1RBU2xWL",
        "outputId": "00607b82-64bf-45dd-b6db-50ab4370a723"
      },
      "source": [
        "len(q_table.table)\n",
        "\n",
        "plt.plot(all_avg_rewards)\n",
        "plt.xlabel('Episode')\n",
        "plt.ylabel('Avg rewards (100)')\n",
        "plt.show()"
      ],
      "execution_count": null,
      "outputs": [
        {
          "output_type": "display_data",
          "data": {
            "image/png": "[encoded data removed]",
            "text/plain": [
              "<Figure size 432x288 with 1 Axes>"
            ]
          },
          "metadata": {
            "tags": [],
            "needs_background": "light"
          }
        }
      ]
    },
    {
      "cell_type": "code",
      "metadata": {
        "colab": {
          "base_uri": "https://localhost:8080/",
          "height": 279
        },
        "id": "lnJtOfGQfUT0",
        "outputId": "8cecaa1c-9930-46cf-efb3-665ff079ed34"
      },
      "source": [
        "plt.plot(all_qtable_rows)\n",
        "plt.xlabel('Episode')\n",
        "plt.ylabel('Explored states')\n",
        "plt.show()"
      ],
      "execution_count": null,
      "outputs": [
        {
          "output_type": "display_data",
          "data": {
            "image/png": "[encoded data removed]",
            "text/plain": [
              "<Figure size 432x288 with 1 Axes>"
            ]
          },
          "metadata": {
            "tags": [],
            "needs_background": "light"
          }
        }
      ]
    },
    {
      "cell_type": "code",
      "metadata": {
        "colab": {
          "base_uri": "https://localhost:8080/",
          "height": 279
        },
        "id": "jBj4RzezfXRC",
        "outputId": "40df6a83-3b17-4a0b-9c42-5ebf56b9ebd4"
      },
      "source": [
        "plt.plot(all_epsilons)\n",
        "plt.xlabel('Episode')\n",
        "plt.ylabel('Epsilon')\n",
        "plt.show()"
      ],
      "execution_count": null,
      "outputs": [
        {
          "output_type": "display_data",
          "data": {
            "image/png": "[encoded data removed]",
            "text/plain": [
              "<Figure size 432x288 with 1 Axes>"
            ]
          },
          "metadata": {
            "tags": [],
            "needs_background": "light"
          }
        }
      ]
    },
    {
      "cell_type": "code",
      "metadata": {
        "id": "Q3iP65LJ3CVC"
      },
      "source": [
        "tmp_dict_q_table = q_table.table.copy()\n",
        "dict_q_table = dict()\n",
        "\n",
        "for k in tmp_dict_q_table:\n",
        "    if np.count_nonzero(tmp_dict_q_table[k]) > 0:\n",
        "        dict_q_table[k] = int(np.argmax(tmp_dict_q_table[k]))\n",
        "\n",
        "my_agent = '''def my_agent(observation, configuration):\n",
        "    from random import choice\n",
        "\n",
        "    q_table = ''' \\\n",
        "    + str(dict_q_table).replace(' ', '') \\\n",
        "    + '''\n",
        "\n",
        "    board = observation.board[:]\n",
        "    board.append(observation.mark)\n",
        "    state_key = list(map(str, board))\n",
        "    state_key = hex(int(''.join(state_key), 3))[2:]\n",
        "\n",
        "    if state_key not in q_table.keys():\n",
        "        return choice([c for c in range(configuration.columns) if observation.board[c] == 0])\n",
        "\n",
        "    action = q_table[state_key]\n",
        "\n",
        "    if observation.board[action] != 0:\n",
        "        return choice([c for c in range(configuration.columns) if observation.board[c] == 0])\n",
        "\n",
        "    return action\n",
        "    ''' \n",
        "\n",
        "with open('submission.py', 'w') as f:\n",
        "    f.write(my_agent)"
      ],
      "execution_count": null,
      "outputs": []
    },
    {
      "cell_type": "markdown",
      "metadata": {
        "id": "TlOrzAuugDWc"
      },
      "source": [
        "Validate"
      ]
    },
    {
      "cell_type": "code",
      "metadata": {
        "id": "Bd_G6FKSGfqb"
      },
      "source": [
        "def get_win_percentages(agent1, agent2, n_rounds=100):\n",
        "    # Use default Connect Four setup\n",
        "    config = {'rows': 6, 'columns': 7, 'inarow': 4}\n",
        "    # Agent 1 goes first (roughly) half the time          \n",
        "    outcomes = evaluate(\"connectx\", [agent1, agent2], config, [], n_rounds//2)\n",
        "    # Agent 2 goes first (roughly) half the time      \n",
        "    outcomes += [[b,a] for [a,b] in evaluate(\"connectx\", [agent2, agent1], config, [], n_rounds-n_rounds//2)]\n",
        "    print(\"Agent 1 Win Percentage:\", np.round(outcomes.count([1,-1])/len(outcomes), 2))\n",
        "    print(\"Agent 2 Win Percentage:\", np.round(outcomes.count([-1,1])/len(outcomes), 2))\n",
        "    print(\"Number of Invalid Plays by Agent 1:\", outcomes.count([None, 0]))\n",
        "    print(\"Number of Invalid Plays by Agent 2:\", outcomes.count([0, None]))"
      ],
      "execution_count": 13,
      "outputs": []
    },
    {
      "cell_type": "markdown",
      "metadata": {
        "id": "WPqJllB3O4ON"
      },
      "source": [
        "Render tests won't run on larger trained sessions (disconnects from Colab)"
      ]
    },
    {
      "cell_type": "code",
      "metadata": {
        "colab": {
          "base_uri": "https://localhost:8080/"
        },
        "id": "B5k7ZuYWACrI",
        "outputId": "475ebf28-5f07-47f1-b535-2bcc60b8c72b"
      },
      "source": [
        "from submission import my_agent\n",
        "\n",
        "# Run once to observe the procedure is implemented correctly\n",
        "print(\"My agent vs Random\")\n",
        "env.run([my_agent, \"random\"])\n",
        "env.render(mode=\"ipython\")\n",
        "env.reset()\n",
        "\n",
        "print(\"My agent vs Negamax\")\n",
        "env.run([my_agent, \"negamax\"])\n",
        "env.render(mode=\"ipython\")\n",
        "env.reset()\n",
        "\n",
        "print(\"My agent vs Depth 5\")\n",
        "env.run([my_agent, agent_depth5])\n",
        "env.render(mode=\"ipython\")\n",
        "env.reset()\n",
        "\n",
        "print(\"Depth 5 vs Negamax\")\n",
        "env.run([agent_depth5, \"negamax\"])\n",
        "env.render(mode=\"ipython\")\n",
        "env.reset()\n"
      ],
      "execution_count": null,
      "outputs": [
        {
          "output_type": "stream",
          "text": [
            "My agent vs Random\n"
          ],
          "name": "stdout"
        }
      ]
    },
    {
      "cell_type": "code",
      "metadata": {
        "id": "8lxXQ3tZGL6f",
        "colab": {
          "base_uri": "https://localhost:8080/"
        },
        "outputId": "fb7febbe-42d1-4f94-a0b1-2a0217febb44"
      },
      "source": [
        "from submission import my_agent\n",
        "\n",
        "# Run once to observe the procedure is implemented correctly\n",
        "\n",
        "\n",
        "# Determine the winning percentages with\n",
        "print(\"my agent vs random\")\n",
        "get_win_percentages(agent1=my_agent, agent2=\"random\")\n",
        "\n",
        "# Run once to observe the procedure is implemented correctly\n",
        "#env.run([my_agent, \"negamax\"])\n",
        "#env.render(mode=\"ipython\")\n",
        "#env.reset()\n",
        "print(\"\\ndepth 1 vs negamax\")\n",
        "get_win_percentages(agent1=agent_depth1, agent2=\"negamax\")\n",
        "\n",
        "print(\"\\ndepth 3 vs negamax\")\n",
        "get_win_percentages(agent1=agent_depth3, agent2=\"negamax\")\n",
        "# Determine the winning percentages with\n",
        "print(\"\\ndepth 5 vs negamax\")\n",
        "get_win_percentages(agent1=agent_depth5, agent2=\"negamax\")\n",
        "\n",
        "print(\"\\ndepth 3 vs depth 5\")\n",
        "get_win_percentages(agent1=agent_depth3, agent2=agent_depth5)\n",
        "\n",
        "print(\"\\nmy agent vs depth 1\")\n",
        "get_win_percentages(agent1=my_agent, agent2=agent_depth1)"
      ],
      "execution_count": null,
      "outputs": [
        {
          "output_type": "stream",
          "text": [
            "my agent vs random\n",
            "Agent 1 Win Percentage: 0.57\n",
            "Agent 2 Win Percentage: 0.43\n",
            "Number of Invalid Plays by Agent 1: 0\n",
            "Number of Invalid Plays by Agent 2: 0\n",
            "\n",
            "depth 1 vs negamax\n",
            "Agent 1 Win Percentage: 0.45\n",
            "Agent 2 Win Percentage: 0.54\n",
            "Number of Invalid Plays by Agent 1: 0\n",
            "Number of Invalid Plays by Agent 2: 0\n",
            "\n",
            "depth 3 vs negamax\n",
            "Agent 1 Win Percentage: 0.96\n",
            "Agent 2 Win Percentage: 0.01\n",
            "Number of Invalid Plays by Agent 1: 0\n",
            "Number of Invalid Plays by Agent 2: 0\n",
            "\n",
            "depth 5 vs negamax\n",
            "Agent 1 Win Percentage: 0.99\n",
            "Agent 2 Win Percentage: 0.0\n",
            "Number of Invalid Plays by Agent 1: 0\n",
            "Number of Invalid Plays by Agent 2: 0\n",
            "\n",
            "depth 3 vs depth 5\n",
            "Agent 1 Win Percentage: 0.0\n",
            "Agent 2 Win Percentage: 1.0\n",
            "Number of Invalid Plays by Agent 1: 0\n",
            "Number of Invalid Plays by Agent 2: 0\n",
            "\n",
            "my agent vs depth 1\n",
            "Agent 1 Win Percentage: 0.0\n",
            "Agent 2 Win Percentage: 1.0\n",
            "Number of Invalid Plays by Agent 1: 0\n",
            "Number of Invalid Plays by Agent 2: 0\n"
          ],
          "name": "stdout"
        }
      ]
    },
    {
      "cell_type": "code",
      "metadata": {
        "colab": {
          "base_uri": "https://localhost:8080/"
        },
        "id": "o69VfD_zZbCJ",
        "outputId": "e5d1bad6-d7de-4acd-c193-509eed03767e"
      },
      "source": [
        "print(\"\\ndepth 5 vs negamax\")\r\n",
        "get_win_percentages(agent1=agent_depth5, agent2=\"negamax\")\r\n",
        "\r\n",
        "print(\"\\ndepth 6 vs negamax\")\r\n",
        "get_win_percentages(agent1=agent_depth6, agent2=\"negamax\")\r\n",
        "\r\n",
        "print(\"\\ndepth 5 vs depth 6\")\r\n",
        "get_win_percentages(agent1=agent_depth5, agent2=agent_depth6)"
      ],
      "execution_count": 14,
      "outputs": [
        {
          "output_type": "stream",
          "text": [
            "\n",
            "depth 5 vs negamax\n",
            "Agent 1 Win Percentage: 0.97\n",
            "Agent 2 Win Percentage: 0.0\n",
            "Number of Invalid Plays by Agent 1: 0\n",
            "Number of Invalid Plays by Agent 2: 0\n",
            "\n",
            "depth 6 vs negamax\n",
            "Agent 1 Win Percentage: 0.98\n",
            "Agent 2 Win Percentage: 0.01\n",
            "Number of Invalid Plays by Agent 1: 0\n",
            "Number of Invalid Plays by Agent 2: 0\n",
            "\n",
            "depth 5 vs depth 6\n",
            "Agent 1 Win Percentage: 0.5\n",
            "Agent 2 Win Percentage: 0.5\n",
            "Number of Invalid Plays by Agent 1: 0\n",
            "Number of Invalid Plays by Agent 2: 0\n"
          ],
          "name": "stdout"
        }
      ]
    },
    {
      "cell_type": "code",
      "metadata": {
        "id": "iYi08IBrwcGL",
        "colab": {
          "base_uri": "https://localhost:8080/"
        },
        "outputId": "5ed395a0-064a-42f0-e7c8-df43a36f376a"
      },
      "source": [
        "from submission import my_agent\n",
        "\n",
        "env = make(\"connectx\", debug=True)\n",
        "env.run([my_agent, my_agent])\n",
        "print(\"Success!\" if env.state[0].status == env.state[1].status == \"DONE\" else \"Failed...\")"
      ],
      "execution_count": null,
      "outputs": [
        {
          "output_type": "stream",
          "text": [
            "Success!\n"
          ],
          "name": "stdout"
        }
      ]
    },
    {
      "cell_type": "markdown",
      "metadata": {
        "id": "J1T78JsSPEM7"
      },
      "source": [
        "Render tests won't run on larger trained sessions (disconnects from Colab)"
      ]
    },
    {
      "cell_type": "code",
      "metadata": {
        "id": "I7-SPPrTJ_zr"
      },
      "source": [
        "from submission import my_agent\n",
        "env.run([my_agent, my_agent])\n",
        "env.render(mode=\"ipython\")\n",
        "env.reset()"
      ],
      "execution_count": null,
      "outputs": []
    },
    {
      "cell_type": "code",
      "metadata": {
        "id": "U-XNVQtdReJt",
        "colab": {
          "base_uri": "https://localhost:8080/"
        },
        "outputId": "68153333-73d1-46f0-9fac-f0ed59b4a2a1"
      },
      "source": [
        "import inspect\n",
        "import os\n",
        "\n",
        "def write_agent_to_file(function, file):\n",
        "    with open(file, \"a\" if os.path.exists(file) else \"w\") as f:\n",
        "        f.write(inspect.getsource(function))\n",
        "        print(function, \"written to\", file)\n",
        "\n",
        "write_agent_to_file(my_agent, \"submission40k.py\")"
      ],
      "execution_count": null,
      "outputs": [
        {
          "output_type": "stream",
          "text": [
            "<function my_agent at 0x7fc506b499d8> written to submission40k.py\n"
          ],
          "name": "stdout"
        }
      ]
    },
    {
      "cell_type": "code",
      "metadata": {
        "id": "fRd3cCXYGd4T",
        "colab": {
          "base_uri": "https://localhost:8080/",
          "height": 17
        },
        "outputId": "cedf1a2c-e72b-4203-b73a-89bb581b8837"
      },
      "source": [
        "from google.colab import files\n",
        "files.download('submission40k.py')"
      ],
      "execution_count": null,
      "outputs": [
        {
          "output_type": "display_data",
          "data": {
            "application/javascript": [
              "\n",
              "    async function download(id, filename, size) {\n",
              "      if (!google.colab.kernel.accessAllowed) {\n",
              "        return;\n",
              "      }\n",
              "      const div = document.createElement('div');\n",
              "      const label = document.createElement('label');\n",
              "      label.textContent = `Downloading \"${filename}\": `;\n",
              "      div.appendChild(label);\n",
              "      const progress = document.createElement('progress');\n",
              "      progress.max = size;\n",
              "      div.appendChild(progress);\n",
              "      document.body.appendChild(div);\n",
              "\n",
              "      const buffers = [];\n",
              "      let downloaded = 0;\n",
              "\n",
              "      const channel = await google.colab.kernel.comms.open(id);\n",
              "      // Send a message to notify the kernel that we're ready.\n",
              "      channel.send({})\n",
              "\n",
              "      for await (const message of channel.messages) {\n",
              "        // Send a message to notify the kernel that we're ready.\n",
              "        channel.send({})\n",
              "        if (message.buffers) {\n",
              "          for (const buffer of message.buffers) {\n",
              "            buffers.push(buffer);\n",
              "            downloaded += buffer.byteLength;\n",
              "            progress.value = downloaded;\n",
              "          }\n",
              "        }\n",
              "      }\n",
              "      const blob = new Blob(buffers, {type: 'application/binary'});\n",
              "      const a = document.createElement('a');\n",
              "      a.href = window.URL.createObjectURL(blob);\n",
              "      a.download = filename;\n",
              "      div.appendChild(a);\n",
              "      a.click();\n",
              "      div.remove();\n",
              "    }\n",
              "  "
            ],
            "text/plain": [
              "<IPython.core.display.Javascript object>"
            ]
          },
          "metadata": {
            "tags": []
          }
        },
        {
          "output_type": "display_data",
          "data": {
            "application/javascript": [
              "download(\"download_406a698b-171c-4d84-9317-8564e06e9cf5\", \"submission40k.py\", 1201575)"
            ],
            "text/plain": [
              "<IPython.core.display.Javascript object>"
            ]
          },
          "metadata": {
            "tags": []
          }
        }
      ]
    }
  ]
}